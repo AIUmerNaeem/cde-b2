{
 "cells": [
  {
   "cell_type": "markdown",
   "id": "9518f35a-f43f-43b2-81d2-ba964227e7f3",
   "metadata": {},
   "source": [
    "### 1. Count number of vowels in a string"
   ]
  },
  {
   "cell_type": "code",
   "execution_count": 18,
   "id": "63844ede-1763-4eec-bd90-6e9a13877cf1",
   "metadata": {},
   "outputs": [
    {
     "name": "stdin",
     "output_type": "stream",
     "text": [
      "Enter a string:  aeiou\n"
     ]
    },
    {
     "name": "stdout",
     "output_type": "stream",
     "text": [
      "Number of vowels: 5\n"
     ]
    }
   ],
   "source": [
    "def count_vowels(s): \n",
    "    vowels = \"aeiouAEIOU\"\n",
    "    return sum(1 for char in s if char in vowels)\n",
    "\n",
    "s = input(\"Enter a string: \")\n",
    "print(\"Number of vowels:\", count_vowels(s))"
   ]
  },
  {
   "cell_type": "markdown",
   "id": "eef47a99-6b63-4f4e-87d9-3d95d6bdd500",
   "metadata": {},
   "source": [
    "### 2. Count uppercase, lowercase, digits, and whitespace"
   ]
  },
  {
   "cell_type": "code",
   "execution_count": 23,
   "id": "1a5abeb1-60f5-417e-b656-31a6f3ca5da2",
   "metadata": {},
   "outputs": [
    {
     "name": "stdin",
     "output_type": "stream",
     "text": [
      "Enter a string:  Umer\n"
     ]
    },
    {
     "name": "stdout",
     "output_type": "stream",
     "text": [
      "Uppercase: 1, Lowercase: 3, Digits: 0, Spaces: 0\n"
     ]
    }
   ],
   "source": [
    "def count_character_types(s):\n",
    "    upper = sum(1 for char in s if char.isupper())\n",
    "    lower = sum(1 for char in s if char.islower())\n",
    "    digits = sum(1 for char in s if char.isdigit())\n",
    "    spaces = sum(1 for char in s if char.isspace())\n",
    "    return upper, lower, digits, spaces\n",
    "    \n",
    "s = input(\"Enter a string: \")\n",
    "upper, lower, digits, spaces = count_character_types(s)\n",
    "print(f\"Uppercase: {upper}, Lowercase: {lower}, Digits: {digits}, Spaces: {spaces}\")"
   ]
  },
  {
   "cell_type": "markdown",
   "id": "aee2e609-1dec-4d9e-835a-d48af9fcf696",
   "metadata": {},
   "source": [
    "### 3. Swap first and last characters"
   ]
  },
  {
   "cell_type": "code",
   "execution_count": 14,
   "id": "37003197-f755-4bae-885e-f4ed0da60918",
   "metadata": {},
   "outputs": [
    {
     "name": "stdin",
     "output_type": "stream",
     "text": [
      "Enter a string:  4\n"
     ]
    },
    {
     "name": "stdout",
     "output_type": "stream",
     "text": [
      "Modified string: 4\n"
     ]
    }
   ],
   "source": [
    "def swap_first_last(s):\n",
    "    return s[-1] + s[1:-1] + s[0] if len(s) > 1 else s\n",
    "\n",
    "s = input(\"Enter a string: \")\n",
    "print(\"Modified string:\", swap_first_last(s))\n"
   ]
  },
  {
   "cell_type": "markdown",
   "id": "1be23196-4094-4808-8c09-175cfc769fd9",
   "metadata": {},
   "source": [
    "### 4. Reverse a string"
   ]
  },
  {
   "cell_type": "code",
   "execution_count": 17,
   "id": "ae398056-2868-40aa-91c5-a2965e4dd73d",
   "metadata": {},
   "outputs": [
    {
     "name": "stdin",
     "output_type": "stream",
     "text": [
      "Enter a string:  324\n"
     ]
    },
    {
     "name": "stdout",
     "output_type": "stream",
     "text": [
      "Reversed string: 423\n"
     ]
    }
   ],
   "source": [
    "def reverse_string(s):\n",
    "    return s[::-1]\n",
    "\n",
    "s = input(\"Enter a string: \")\n",
    "print(\"Reversed string:\", reverse_string(s))\n"
   ]
  },
  {
   "cell_type": "markdown",
   "id": "60169ba5-69b3-49a8-ba9a-4806030a4810",
   "metadata": {},
   "source": [
    "### 5. Left shift string by one position"
   ]
  },
  {
   "cell_type": "code",
   "execution_count": 23,
   "id": "b69e7c4c-7f70-4368-8e52-aa304c5b660a",
   "metadata": {},
   "outputs": [
    {
     "name": "stdin",
     "output_type": "stream",
     "text": [
      "Enter a string:  e13\n"
     ]
    },
    {
     "name": "stdout",
     "output_type": "stream",
     "text": [
      "Left shifted string: 13e\n"
     ]
    }
   ],
   "source": [
    "def left_shift(s):\n",
    "    return s[1:] + s[0] if len(s) > 1 else s\n",
    "\n",
    "s = input(\"Enter a string: \")\n",
    "print(\"Left shifted string:\", left_shift(s))"
   ]
  },
  {
   "cell_type": "markdown",
   "id": "97003ab7-2813-4d96-9cb6-bf7ce4d9d02c",
   "metadata": {},
   "source": [
    "### 6. Print initials"
   ]
  },
  {
   "cell_type": "code",
   "execution_count": 34,
   "id": "042ef75f-dfce-488a-a579-b0b5f56671bc",
   "metadata": {},
   "outputs": [
    {
     "name": "stdin",
     "output_type": "stream",
     "text": [
      "Enter your full name:  r2\n"
     ]
    },
    {
     "name": "stdout",
     "output_type": "stream",
     "text": [
      "Initials: R.\n"
     ]
    }
   ],
   "source": [
    "def get_initials(name):\n",
    "    parts = name.split()\n",
    "    return \". \".join(part[0].upper() for part in parts) + \".\"\n",
    "\n",
    "name = input(\"Enter your full name: \")\n",
    "print(\"Initials:\", get_initials(name))\n"
   ]
  },
  {
   "cell_type": "markdown",
   "id": "21d61b2c-6cb8-4208-8a7b-a114d9d72b49",
   "metadata": {},
   "source": [
    "### 7. Check if string is a palindrome"
   ]
  },
  {
   "cell_type": "code",
   "execution_count": null,
   "id": "3983090b-b298-4256-8502-158b307e19cf",
   "metadata": {},
   "outputs": [],
   "source": [
    "def is_palindrome(s):\n",
    "    return s == s[::-1]\n",
    "\n",
    "s = input(\"Enter a string: \")\n",
    "print(\"Palindrome:\", is_palindrome(s))"
   ]
  },
  {
   "cell_type": "markdown",
   "id": "07d8b979-4e16-4760-a59e-29f9a08ec091",
   "metadata": {},
   "source": [
    "### 8. Print shifting pattern of SHIFT"
   ]
  },
  {
   "cell_type": "code",
   "execution_count": 38,
   "id": "1fa1e612-9dc6-4510-afaf-140f2fa02bd4",
   "metadata": {},
   "outputs": [
    {
     "name": "stdout",
     "output_type": "stream",
     "text": [
      "SHIFT\n",
      "HIFTS\n",
      "IFTSH\n",
      "FTSHI\n",
      "TSHIF\n",
      "SHIFT\n"
     ]
    }
   ],
   "source": [
    "def print_shift_pattern():\n",
    "    word = \"SHIFT\"\n",
    "    for i in range(len(word)):\n",
    "        print(word[i:] + word[:i])\n",
    "    print(word)\n",
    "\n",
    "print_shift_pattern()"
   ]
  },
  {
   "cell_type": "markdown",
   "id": "baaaa30a-adda-46b9-aced-473b7ecbf16f",
   "metadata": {},
   "source": [
    "### 9. Validate password"
   ]
  },
  {
   "cell_type": "code",
   "execution_count": null,
   "id": "0af480a4-d98c-44c6-87af-8ad8602b183b",
   "metadata": {},
   "outputs": [],
   "source": [
    "def validate_password(password):\n",
    "    if (len(password) >= 8 and\n",
    "        any(c.isupper() for c in password) and\n",
    "        any(c.islower() for c in password) and\n",
    "        any(c.isdigit() for c in password)):\n",
    "        return \"Valid password\"\n",
    "    return \"Invalid password\"\n",
    "\n",
    "password = input(\"Enter a password: \")\n",
    "print(validate_password(password))\n"
   ]
  }
 ],
 "metadata": {
  "kernelspec": {
   "display_name": "Python [conda env:base] *",
   "language": "python",
   "name": "conda-base-py"
  },
  "language_info": {
   "codemirror_mode": {
    "name": "ipython",
    "version": 3
   },
   "file_extension": ".py",
   "mimetype": "text/x-python",
   "name": "python",
   "nbconvert_exporter": "python",
   "pygments_lexer": "ipython3",
   "version": "3.12.7"
  }
 },
 "nbformat": 4,
 "nbformat_minor": 5
}
