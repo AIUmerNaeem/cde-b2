{
 "cells": [
  {
   "cell_type": "markdown",
   "id": "36a017c4-550f-426d-a238-9b5219dd9f8d",
   "metadata": {},
   "source": [
    "### 1. Print Your Name with your Father name and Date of birth using suitable escape sequence character"
   ]
  },
  {
   "cell_type": "code",
   "execution_count": 3,
   "id": "957aca85-5db1-4283-ae3c-b761926fea63",
   "metadata": {},
   "outputs": [
    {
     "name": "stdout",
     "output_type": "stream",
     "text": [
      "Name: Umer Naeem\n",
      "Father's Name: Naeem\n",
      "Date of Birth: 7th September 2011\n"
     ]
    }
   ],
   "source": [
    "print(\"Name: Umer Naeem\\nFather's Name: Naeem\\nDate of Birth: 7th September 2011\")"
   ]
  },
  {
   "cell_type": "markdown",
   "id": "6880d995-bb54-4879-8405-b78a8c88a612",
   "metadata": {},
   "source": [
    "### 2. Write your small bio using variables and print it using print function"
   ]
  },
  {
   "cell_type": "code",
   "execution_count": 5,
   "id": "fd4caf66-be61-4cac-8032-d90582c18a21",
   "metadata": {},
   "outputs": [],
   "source": [
    "name = \"Umer Naeem\"\n",
    "age = 13 \n",
    "Experience = 40.5"
   ]
  },
  {
   "cell_type": "code",
   "execution_count": 7,
   "id": "a4ea6d3c-b0f1-446a-a086-ff876333cbf3",
   "metadata": {},
   "outputs": [
    {
     "name": "stdout",
     "output_type": "stream",
     "text": [
      "Umer Naeem\n",
      "13\n",
      "40.5\n"
     ]
    }
   ],
   "source": [
    "print(name) \n",
    "print(age)\n",
    "print(Experience)"
   ]
  },
  {
   "cell_type": "markdown",
   "id": "f94b6251-33d6-4adb-af87-39e9f5f4963a",
   "metadata": {},
   "source": [
    "### 3. Write a program in which use all the operators we can use in Python"
   ]
  },
  {
   "cell_type": "code",
   "execution_count": 9,
   "id": "02507bb0-bec9-4c72-b065-bc5298d8b9cb",
   "metadata": {},
   "outputs": [
    {
     "name": "stdout",
     "output_type": "stream",
     "text": [
      "Airthematic Operators:\n"
     ]
    }
   ],
   "source": [
    "a=10\n",
    "b=2\n",
    "print(\"Airthematic Operators:\")"
   ]
  },
  {
   "cell_type": "code",
   "execution_count": 10,
   "id": "acb894df-df78-4fef-8efc-79008f27429d",
   "metadata": {},
   "outputs": [
    {
     "name": "stdout",
     "output_type": "stream",
     "text": [
      "Addition 12\n",
      "Subtraction 8\n",
      "Multiplication 20\n",
      "Division 5.0\n",
      "Floor Dvision 5\n",
      "Modulus 0\n",
      "Exponentiation 100\n"
     ]
    }
   ],
   "source": [
    "print(\"Addition\", a+b)\n",
    "print(\"Subtraction\", a-b)\n",
    "print(\"Multiplication\", a*b)\n",
    "print(\"Division\", a/b)\n",
    "print(\"Floor Dvision\", a//b)\n",
    "print(\"Modulus\", a%b)\n",
    "print(\"Exponentiation\", a**b)"
   ]
  },
  {
   "cell_type": "code",
   "execution_count": 11,
   "id": "1a9bd12e-81bc-495f-bd44-72dfbc713416",
   "metadata": {},
   "outputs": [
    {
     "name": "stdout",
     "output_type": "stream",
     "text": [
      "\n",
      "Assignment Operators:\n",
      "x += 3: 8\n",
      "x -= 2: 6\n",
      "x *= 4: 24\n",
      "x /= 2: 12.0\n",
      "x %= 3: 0.0\n",
      "\n",
      "Comparison Operators:\n",
      ":a==b  False\n",
      "a !=b: True\n",
      "a > b: True\n",
      "a < b: False\n",
      "a >= b: True\n",
      "a <= b: False\n"
     ]
    }
   ],
   "source": [
    "x = 5\n",
    "print(\"\\nAssignment Operators:\")\n",
    "x += 3   # x = x + 3\n",
    "print(\"x += 3:\", x)\n",
    "x -= 2   # x = x - 2\n",
    "print(\"x -= 2:\", x)\n",
    "x *= 4   # x = x * 4\n",
    "print(\"x *= 4:\", x)\n",
    "x /= 2  \n",
    "print(\"x /= 2:\", x)\n",
    "x %= 3   \n",
    "print(\"x %= 3:\", x)\n",
    "\n",
    "# Comparison Operators\n",
    "print(\"\\nComparison Operators:\")\n",
    "print(\":a==b \", a == b)  # Equal to\n",
    "print(\"a !=b:\", a != b)  # Not equal to\n",
    "print(\"a > b:\", a > b)    # Greater than\n",
    "print(\"a < b:\", a < b)    # Less than\n",
    "print(\"a >= b:\", a >= b)  # Greater than or equal to\n",
    "print(\"a <= b:\", a <= b)  # Less than or equal to\n"
   ]
  },
  {
   "cell_type": "markdown",
   "id": "2e3f1e0e-efd4-4d8b-948f-1b0ff00eb771",
   "metadata": {},
   "source": [
    "### 4.     Completes the following steps of small task:\n",
    "-     Mention Marks of English , Islamiat and Maths out of 100 in 3 different variables\n",
    "-     Mention Variable of Total Marks and assign 300 to it\n",
    "-     Calculate Percentage"
   ]
  },
  {
   "cell_type": "code",
   "execution_count": 71,
   "id": "5c17e9ed-c1e9-4bf4-9561-869e9462dac9",
   "metadata": {},
   "outputs": [],
   "source": [
    "Math_Mark = 79\n",
    "English_Mark=90\n",
    "Islamiat_Mark=80\n",
    "Total_Marks= 300"
   ]
  },
  {
   "cell_type": "code",
   "execution_count": 77,
   "id": "818b6f98-512c-4619-a84d-a2b102812a96",
   "metadata": {},
   "outputs": [],
   "source": [
    "obtained_marks = Math_Mark+ English_Mark+ Islamiat_Mark\n",
    "percentage = obtained_marks / Total_Marks * 100"
   ]
  },
  {
   "cell_type": "code",
   "execution_count": 79,
   "id": "9898885d-f97e-4689-ab86-758efe0957de",
   "metadata": {},
   "outputs": [
    {
     "name": "stdout",
     "output_type": "stream",
     "text": [
      "Obtained_marks: 249 out of 300\n",
      "Percentage: 83.00%\n"
     ]
    }
   ],
   "source": [
    "print(f\"Obtained_marks: {obtained_marks} out of {Total_Marks}\")\n",
    "print(f\"Percentage: {percentage:.2f}%\")"
   ]
  },
  {
   "cell_type": "code",
   "execution_count": 25,
   "id": "7023cda1-4733-4cd1-bead-f3f976191a99",
   "metadata": {},
   "outputs": [
    {
     "name": "stdout",
     "output_type": "stream",
     "text": [
      "Obtained Marks: 270 out of 300\n",
      "Percentage: 90.00%\n"
     ]
    }
   ],
   "source": [
    "english_marks = 85\n",
    "islamiat_marks = 90\n",
    "maths_marks = 95\n",
    "\n",
    "# Step 2: Total marks variable\n",
    "total_marks = 300\n",
    "\n",
    "# Step 3: Calculate obtained marks and percentage\n",
    "obtained_marks = english_marks + islamiat_marks + maths_marks\n",
    "percentage = (obtained_marks / total_marks) * 100\n",
    "\n",
    "# Step 4: Print the result\n",
    "print(f\"Obtained Marks: {obtained_marks} out of {total_marks}\")\n",
    "print(f\"Percentage: {percentage:.2f}%\")"
   ]
  },
  {
   "cell_type": "markdown",
   "id": "0bf75461-56fa-4c72-ba8d-dfb66bd8c34e",
   "metadata": {},
   "source": [
    "# Part -2 Python Basics (Conditional Statements)"
   ]
  },
  {
   "cell_type": "markdown",
   "id": "fb77795c-8e38-4717-928b-df64cc8bb6e4",
   "metadata": {},
   "source": [
    "### 1) A company decided to give bonus of 5% to employee if his/her year of service is more than 5 years.\n",
    "-      Ask user for their salary and year of service and print the net bonus amount."
   ]
  },
  {
   "cell_type": "code",
   "execution_count": 81,
   "id": "ca63161b-238b-414a-8012-abb475187a7a",
   "metadata": {},
   "outputs": [
    {
     "name": "stdout",
     "output_type": "stream",
     "text": [
      "Enter Your Salary 5\n",
      "Enter Your Year Of Service 6\n"
     ]
    },
    {
     "name": "stdout",
     "output_type": "stream",
     "text": [
      "Congratulations! You are eligible for a bonus of: 0.25\n"
     ]
    }
   ],
   "source": [
    "salary = float(input(\"Enter Your Salary\"))\n",
    "year_of_service = int(input(\"Enter Your Year Of Service\"))\n",
    "\n",
    "if year_of_service > 5:\n",
    "    bonus = salary * 0.05\n",
    "    print(f\"Congratulations! You are eligible for a bonus of: {bonus:.2f}\")\n",
    "else:\n",
    "    print(\"Sadly! You havent get bonus\")"
   ]
  },
  {
   "cell_type": "code",
   "execution_count": null,
   "id": "29370035-c39c-4976-89a8-e88ac7708bd6",
   "metadata": {},
   "outputs": [],
   "source": [
    "print(bonus)"
   ]
  },
  {
   "cell_type": "markdown",
   "id": "476afc71-f5dd-41a8-992b-986024075bf2",
   "metadata": {},
   "source": [
    "2) ### Write a program to check whether a person is eligible for voting or not. (accept age from user) if age is greater than 17 eligible otherwise not eligible"
   ]
  },
  {
   "cell_type": "code",
   "execution_count": null,
   "id": "d18d5fa1-03cc-49f4-a55a-ea2f40acdd12",
   "metadata": {},
   "outputs": [],
   "source": [
    "age = int(input(\"Enter your age\"))\n",
    "if age > 17:\n",
    "    print(\"you are eligible for voting\")\n",
    "else:\n",
    "    print(\"you are not eligible for voting\")\n",
    "\n",
    "          "
   ]
  },
  {
   "cell_type": "markdown",
   "id": "a00d4444-0448-4045-b4ee-9e59f680d442",
   "metadata": {},
   "source": [
    "### 3) Write a program to check whether a number entered by user is even or odd."
   ]
  },
  {
   "cell_type": "code",
   "execution_count": null,
   "id": "15e4a7ff-3e18-423f-b88b-4c9193946425",
   "metadata": {},
   "outputs": [],
   "source": [
    "num = int(input(\"Enter your num\"))\n",
    "if num % 2 == 0:\n",
    "   print(f\"{num} is an Even number.\")\n",
    "else:\n",
    "    print(f\"{num} is an Odd number.\")"
   ]
  },
  {
   "cell_type": "markdown",
   "id": "883bbcf3-2357-40ce-94b8-98bb079bd2b6",
   "metadata": {},
   "source": [
    "### 4) Write a program to check whether a number is divisible by 7 or not.\n",
    "Show Answer"
   ]
  },
  {
   "cell_type": "code",
   "execution_count": null,
   "id": "6f99fcba-8935-49af-9e91-f1ab87540a12",
   "metadata": {},
   "outputs": [],
   "source": [
    "num = int(input(\"Enter a number: \"))\n",
    "if num % 7 == 0:\n",
    "    print(f\"{num} is divisible by 7.\")\n",
    "else:\n",
    "    print(f\"{num} is not divisible by 7.\")"
   ]
  },
  {
   "cell_type": "markdown",
   "id": "4bea28e7-9f06-4e43-814a-4c73206b752d",
   "metadata": {},
   "source": [
    "### 5) Write a program to display \n",
    "### \"Hello\" if a number entered by user is a multiple of five , otherwise print \"Bye\"."
   ]
  },
  {
   "cell_type": "code",
   "execution_count": null,
   "id": "add76193-8c31-464e-a401-44c0aca801bf",
   "metadata": {},
   "outputs": [],
   "source": [
    "num = int(input(\"Enter a Num\"))\n",
    "if num % 5 ==0:\n",
    "    print(\"Hello\")\n",
    "else:\n",
    "    print(\"bye\")"
   ]
  },
  {
   "cell_type": "code",
   "execution_count": null,
   "id": "d08c0d3e-a46b-4e73-a726-295441ce8bc4",
   "metadata": {},
   "outputs": [],
   "source": [
    "num =int(input(\"Enter Number\"))\n",
    "last_digit = num % 10\n",
    "print (last_digit)"
   ]
  },
  {
   "cell_type": "markdown",
   "id": "19714f1c-aa63-432e-99b5-37b215c110ed",
   "metadata": {},
   "source": [
    "### 10) Take two int values from user and print greatest among them."
   ]
  },
  {
   "cell_type": "code",
   "execution_count": null,
   "id": "3084525d-2b5a-4c2a-8907-9d2404fc1925",
   "metadata": {},
   "outputs": [],
   "source": [
    "num1=input (\"Enter the First Number : \")\n",
    "num2=input (\"Enter the Second Number : \")\n",
    "if num1>num2:\n",
    "    print (\"The Greatest Number is Num1\")\n",
    "elif num2 > num1:\n",
    "     print(\"Greatest Number is Num2\")\n",
    "else:\n",
    "    print(\"Both Are Equal\")"
   ]
  },
  {
   "cell_type": "markdown",
   "id": "cf80ffa3-a0ba-4611-9915-bc970bf47bb7",
   "metadata": {},
   "source": [
    "### 11) A shop will give discount of 10% if the cost of purchased quantity is more than 1000.\n",
    "-     Ask user for quantity\n",
    "-     Suppose, one unit will cost 100.\n",
    "-     Judge and print total cost for user."
   ]
  },
  {
   "cell_type": "code",
   "execution_count": 95,
   "id": "92673105-cb1f-411d-bad6-89eac554b69d",
   "metadata": {},
   "outputs": [
    {
     "name": "stdout",
     "output_type": "stream",
     "text": [
      "Enter The Quantity Of Item:  12\n"
     ]
    },
    {
     "name": "stdout",
     "output_type": "stream",
     "text": [
      "Total cost after discount(if applicable) : 1080.0\n"
     ]
    }
   ],
   "source": [
    "quanity = int(input(\"Enter The Quantity Of Item: \"))\n",
    "unit_price = 100\n",
    "total_cost = quanity * unit_price\n",
    "if total_cost>1000:\n",
    "    discount = total_cost * 0.10\n",
    "    total_cost -= discount\n",
    "print(\"Total cost after discount(if applicable) :\",total_cost)"
   ]
  },
  {
   "cell_type": "markdown",
   "id": "6f95b96f-87bc-4d4a-b8e1-88f04d664777",
   "metadata": {},
   "source": [
    "### 12) A school has following rules for grading system:\n",
    "\n",
    "-     a. Below 25 - F\n",
    "\n",
    "-     25 to 45 - E\n",
    "\n",
    "-     45 to 50 - D\n",
    "\n",
    "-     50 to 60 - C\n",
    "\n",
    "-     60 to 80 - B\n",
    "\n",
    "-     Above 80 - A\n",
    "\n",
    "-     Ask user to enter marks and print the corresponding grade."
   ]
  },
  {
   "cell_type": "code",
   "execution_count": 108,
   "id": "a08958dd-7272-45c7-adcb-36870fc6a7c0",
   "metadata": {},
   "outputs": [
    {
     "name": "stdout",
     "output_type": "stream",
     "text": [
      "Enter the Marks 100\n"
     ]
    },
    {
     "name": "stdout",
     "output_type": "stream",
     "text": [
      "You Got A\n"
     ]
    }
   ],
   "source": [
    "marks = int(input(\"Enter the Marks\"))\n",
    "if marks>80:\n",
    "    print(\"You Got A\")\n",
    "elif marks>60:\n",
    "    print(\"You Got B\")\n",
    "elif marks>50:\n",
    "    print(\"You Got C\")    \n",
    "elif marks>45:\n",
    "    print(\"You Got D\")\n",
    "elif marks>25:\n",
    "    print(\"You Got E\")\n",
    "else:\n",
    "    print(\"YOU GOT F\")"
   ]
  },
  {
   "cell_type": "markdown",
   "id": "537cd0d2-3256-452a-baa1-349e3a663ba3",
   "metadata": {},
   "source": [
    "### 14)A student will not be allowed to sit in exam if his/her attendence is less than 75%.\n",
    "\n",
    "Take following input from user\n",
    "\n",
    "- Number of classes held\n",
    "\n",
    "- Number of classes attended.\n",
    "\n",
    "And print\n",
    "\n",
    "- percentage of class attended\n",
    "\n",
    "- Is student is allowed to sit in exam or not."
   ]
  },
  {
   "cell_type": "code",
   "execution_count": 131,
   "id": "051b933f-e1fb-428f-9bc4-36d61d25bdff",
   "metadata": {},
   "outputs": [
    {
     "name": "stdout",
     "output_type": "stream",
     "text": [
      "Enter the number of class held 10\n",
      "Enter the number of class absent 95\n"
     ]
    },
    {
     "name": "stdout",
     "output_type": "stream",
     "text": [
      "Percentage of classes attended: 50.0\n",
      "You Have not right to sit in exam\n"
     ]
    }
   ],
   "source": [
    "classes_held =int(input(\"Enter the number of class held\"))\n",
    "classes_absent = int(input(\"Enter the number of class absent\"))\n",
    "attendance_percentage = (classes_attend / classes_held) * 100\n",
    "print(\"Percentage of classes attended:\", attendance_percentage)\n",
    "if attendance_percentage>=75:\n",
    "    print(\"You can sit in exam\")\n",
    "else:\n",
    "    print(\"You Have not right to sit in exam\")    "
   ]
  },
  {
   "cell_type": "markdown",
   "id": "f42aa2de-7490-4f1c-854e-d796be146c25",
   "metadata": {},
   "source": [
    "#### 15) Modify the above question to allow student to sit if he/she has medical cause. Ask user if he/she has medical cause or not ( 'Y' or 'N' ) and print accordingly.\n"
   ]
  },
  {
   "cell_type": "code",
   "execution_count": 140,
   "id": "e5483ca2-c1ed-43bd-8cdc-b5e558cb8809",
   "metadata": {},
   "outputs": [
    {
     "name": "stdout",
     "output_type": "stream",
     "text": [
      "Enter the number of class held 4\n",
      "Enter the number of class absent 4\n"
     ]
    },
    {
     "name": "stdout",
     "output_type": "stream",
     "text": [
      "Percentage of classes attended: 125.0\n"
     ]
    },
    {
     "name": "stdout",
     "output_type": "stream",
     "text": [
      "Do you have a medical cause? (Y/N):  y\n"
     ]
    },
    {
     "name": "stdout",
     "output_type": "stream",
     "text": [
      "You can sit in the exam\n"
     ]
    }
   ],
   "source": [
    "classes_held =int(input(\"Enter the number of class held\"))\n",
    "classes_absent = int(input(\"Enter the number of class absent\"))\n",
    "attendance_percentage = (classes_attend / classes_held) * 100\n",
    "print(\"Percentage of classes attended:\", attendance_percentage)\n",
    "medical_cause = input(\"Do you have a medical cause? (Y/N): \")\n",
    "if attendance_percentage >= 75 or medical_cause == 'Y':\n",
    "    print(\"You can sit in the exam\")\n",
    "else:\n",
    "    print(\"You have no right to sit in the exam\")"
   ]
  },
  {
   "cell_type": "markdown",
   "id": "9c63cef2-b89b-4f23-98c4-74da7fc64769",
   "metadata": {},
   "source": [
    "### 16) Write a program to check if a year is leap year or not.\n",
    "\n",
    "-     If a year is divisible by 4 then it is leap year but if the year is century year like 2000, 1900, 2100 then it must be divisible by 400."
   ]
  },
  {
   "cell_type": "code",
   "execution_count": 165,
   "id": "f82e17df-38b8-4abd-b8b2-0601acc25c22",
   "metadata": {},
   "outputs": [
    {
     "name": "stdout",
     "output_type": "stream",
     "text": [
      "Enter a year:  2340\n"
     ]
    },
    {
     "name": "stdout",
     "output_type": "stream",
     "text": [
      "2340 is a leap year\n"
     ]
    }
   ],
   "source": [
    "year = int(input(\"Enter a year: \"))\n",
    "if (year % 4 == 0 and year % 100 != 0) or (year % 400 == 0):\n",
    "    print(year, \"is a leap year\")\n",
    "else:\n",
    "    print(year, \"is NOT a leap year\")"
   ]
  },
  {
   "cell_type": "markdown",
   "id": "d930df2e-3dc0-43d9-aba5-f20b3bcc622b",
   "metadata": {},
   "source": [
    "### 17) Ask user to enter age, gender ( M or F ), marital status ( Y or N ) and then using following rules print their place of service.\n",
    "\n",
    "-     if employee is female, then she will work only in urban areas.\n",
    "\n",
    "-     if employee is a male and age is in between 20 to 40 then he may work in anywhere\n",
    "\n",
    "-     if employee is male and age is in between 40 t0 60 then he will work in urban areas only.\n",
    "\n",
    "-     And any other input of age should print \"ERROR\""
   ]
  },
  {
   "cell_type": "code",
   "execution_count": 171,
   "id": "a37dcc9c-d508-485b-85cf-0bc4cbe845a5",
   "metadata": {},
   "outputs": [
    {
     "name": "stdout",
     "output_type": "stream",
     "text": [
      "Enter your age:  3\n",
      "Enter your gender (M/F):  3\n",
      "Enter your marital status (Y/N):  3\n"
     ]
    },
    {
     "name": "stdout",
     "output_type": "stream",
     "text": [
      "Invalid gender input\n"
     ]
    }
   ],
   "source": [
    "age = int(input(\"Enter your age: \"))\n",
    "gender = input(\"Enter your gender (M/F): \")\n",
    "marital_status = input(\"Enter your marital status (Y/N): \")\n",
    "if gender == 'F':\n",
    "    print(\"You will work only in urban areas.\")\n",
    "elif gender == 'M':\n",
    "    if 20 <= age <= 40:\n",
    "        print(\"You may work anywhere.\")\n",
    "    elif 40 < age <= 60:\n",
    "        print(\"You will work only in urban areas.\")\n",
    "    else:\n",
    "        print(\"ERROR\")\n",
    "else:\n",
    "    print(\"Invalid gender input\")\n"
   ]
  },
  {
   "cell_type": "markdown",
   "id": "873dc10f-6e53-45a4-9c9c-4fe57edeaec4",
   "metadata": {},
   "source": [
    "### 6) Write a program to calculate the electricity bill (accept number of unit from user) according to the following criteria :\n",
    "\n",
    "\n",
    "\n",
    "     Unit                                                     Price  \n",
    "uptp 100 units                                             no charge\n",
    "Next 200 units                                              Rs 5 per unit\n",
    "After 200 units                                             Rs 10 per unit\n",
    "(For example if input unit is 350 than total bill amount is Rs.3500\n",
    "(For example if input unit is 97 than total bill amount is Rs.0\n",
    "(For example if input unit is 150 than total bill amount is Rs.750"
   ]
  },
  {
   "cell_type": "code",
   "execution_count": 180,
   "id": "b0c2af08-4153-4b87-b863-c2a86553a3d8",
   "metadata": {},
   "outputs": [
    {
     "name": "stdout",
     "output_type": "stream",
     "text": [
      "Enter the number of units consumed:  45\n"
     ]
    },
    {
     "name": "stdout",
     "output_type": "stream",
     "text": [
      "Total bill amount: Rs. 0\n"
     ]
    }
   ],
   "source": [
    "units = int(input(\"Enter the number of units consumed: \"))\n",
    "if units <= 100:\n",
    "    bill = 0  # No charge for first 100 units\n",
    "elif units <= 300:\n",
    "    bill = (units - 100) * 5  # Rs 5 per unit for next 200 units\n",
    "else:\n",
    "    bill = (200 * 5) + ((units - 300) * 10)  # Rs 5 for next 200 units + Rs 10 for remaining units\n",
    "\n",
    "# Print the total bill amount\n",
    "print(\"Total bill amount: Rs.\", bill)"
   ]
  },
  {
   "cell_type": "markdown",
   "id": "332663a6-05e4-4c45-97e3-9a64e2ee103f",
   "metadata": {},
   "source": [
    "### 13) Take input of age of 3 people by user and determine oldest and youngest among them."
   ]
  },
  {
   "cell_type": "code",
   "execution_count": 185,
   "id": "05a82169-fbe6-4360-a570-f8b85a6a58aa",
   "metadata": {},
   "outputs": [
    {
     "name": "stdout",
     "output_type": "stream",
     "text": [
      "Enter age of first person:  4\n",
      "Enter age of second person:  4\n",
      "Enter age of third person:  4\n"
     ]
    },
    {
     "name": "stdout",
     "output_type": "stream",
     "text": [
      "The oldest person is 4 years old.\n",
      "The youngest person is 4 years old.\n"
     ]
    }
   ],
   "source": [
    "age1 = int(input(\"Enter age of first person: \"))\n",
    "age2 = int(input(\"Enter age of second person: \"))\n",
    "age3 = int(input(\"Enter age of third person: \"))\n",
    "oldest = max(age1, age2, age3)\n",
    "youngest = min(age1, age2, age3)\n",
    "print(\"The oldest person is\", oldest, \"years old.\")\n",
    "print(\"The youngest person is\", youngest, \"years old.\")\n"
   ]
  },
  {
   "cell_type": "code",
   "execution_count": null,
   "id": "55450807-6b39-4a54-b9de-71323e079c55",
   "metadata": {},
   "outputs": [],
   "source": []
  }
 ],
 "metadata": {
  "kernelspec": {
   "display_name": "Python [conda env:base] *",
   "language": "python",
   "name": "conda-base-py"
  },
  "language_info": {
   "codemirror_mode": {
    "name": "ipython",
    "version": 3
   },
   "file_extension": ".py",
   "mimetype": "text/x-python",
   "name": "python",
   "nbconvert_exporter": "python",
   "pygments_lexer": "ipython3",
   "version": "3.12.7"
  }
 },
 "nbformat": 4,
 "nbformat_minor": 5
}
